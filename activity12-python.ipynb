{
 "cells": [
  {
   "cell_type": "code",
   "execution_count": 6,
   "id": "eb30fd48",
   "metadata": {},
   "outputs": [
    {
     "name": "stdout",
     "output_type": "stream",
     "text": [
      "Enter length of Base : 2\n",
      "Enter length of Perpendicular : 3\n",
      "Enter length of Hypotenuse : 4\n",
      "It's not a right triangle\n"
     ]
    },
    {
     "data": {
      "text/plain": [
       "2.9047375096555625"
      ]
     },
     "execution_count": 6,
     "metadata": {},
     "output_type": "execute_result"
    }
   ],
   "source": [
    "import math\n",
    "base=float(input(\"Enter length of Base : \"))\n",
    "perp=float(input(\"Enter length of Perpendicular : \"))\n",
    "hypo=float(input(\"Enter length of Hypotenuse : \"))\n",
    "\n",
    "if hypo**2==((base**2)+(perp**2)):\n",
    "    print(\"It's a right triangle\")\n",
    "else:\n",
    "    print(\"It's not a right triangle\")\n",
    "\n",
    "s = (base + perp + hypo) / 2\n",
    "area = math.sqrt(s * (s - base) * (s - perp) * (s - hypo))\n",
    "area"
   ]
  },
  {
   "cell_type": "code",
   "execution_count": null,
   "id": "a405d8f0",
   "metadata": {},
   "outputs": [],
   "source": []
  },
  {
   "cell_type": "code",
   "execution_count": null,
   "id": "aa0395a1",
   "metadata": {},
   "outputs": [],
   "source": []
  }
 ],
 "metadata": {
  "kernelspec": {
   "display_name": "Python 3 (ipykernel)",
   "language": "python",
   "name": "python3"
  },
  "language_info": {
   "codemirror_mode": {
    "name": "ipython",
    "version": 3
   },
   "file_extension": ".py",
   "mimetype": "text/x-python",
   "name": "python",
   "nbconvert_exporter": "python",
   "pygments_lexer": "ipython3",
   "version": "3.9.12"
  }
 },
 "nbformat": 4,
 "nbformat_minor": 5
}
