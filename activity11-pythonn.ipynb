{
 "cells": [
  {
   "cell_type": "code",
   "execution_count": 1,
   "id": "42c1c3c6",
   "metadata": {},
   "outputs": [
    {
     "name": "stdout",
     "output_type": "stream",
     "text": [
      "-------EMPLOYEE MANAGEMENT----------\n",
      "name of emp: ananya\n",
      "id of emp: 54637\n",
      "dept of emp: cse\n",
      "salary of emp: 23456789\n",
      "list is ['ananya', 54637, 'cse', 23456789]\n"
     ]
    }
   ],
   "source": [
    "import csv\n",
    "print(\"-------EMPLOYEE MANAGEMENT----------\")\n",
    "x=input(\"name of emp: \")\n",
    "y=int(input(\"id of emp: \"))\n",
    "z=input(\"dept of emp: \")\n",
    "a=int(input(\"salary of emp: \"))\n",
    "\n",
    "list_emp=[x,y,z,a]\n",
    "print(\"list is\",list_emp)\n",
    "\n",
    "with open('file_1.csv','w')as f:\n",
    "    write=csv.writer(f)\n",
    "    write.writerow(list_emp)"
   ]
  },
  {
   "cell_type": "code",
   "execution_count": null,
   "id": "d59eee23",
   "metadata": {},
   "outputs": [],
   "source": []
  }
 ],
 "metadata": {
  "kernelspec": {
   "display_name": "Python 3 (ipykernel)",
   "language": "python",
   "name": "python3"
  },
  "language_info": {
   "codemirror_mode": {
    "name": "ipython",
    "version": 3
   },
   "file_extension": ".py",
   "mimetype": "text/x-python",
   "name": "python",
   "nbconvert_exporter": "python",
   "pygments_lexer": "ipython3",
   "version": "3.9.12"
  }
 },
 "nbformat": 4,
 "nbformat_minor": 5
}
